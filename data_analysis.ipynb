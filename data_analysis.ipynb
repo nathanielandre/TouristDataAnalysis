{
 "cells": [
  {
   "cell_type": "markdown",
   "metadata": {},
   "source": [
    "# DATA LOADING"
   ]
  },
  {
   "cell_type": "markdown",
   "metadata": {},
   "source": [
    "## DEFINE LIBRARY"
   ]
  },
  {
   "cell_type": "code",
   "execution_count": 1,
   "metadata": {},
   "outputs": [],
   "source": [
    "import pandas as pd # for creating table and manipulating data inside the table\n",
    "from scipy import stats # for statistical analysis purpose\n",
    "import matplotlib.pyplot as plt # for data visualization purpose\n",
    "import math # for basic math function"
   ]
  },
  {
   "cell_type": "markdown",
   "metadata": {},
   "source": [
    "## LOAD DATA"
   ]
  },
  {
   "cell_type": "markdown",
   "metadata": {},
   "source": [
    "### TABLE BY AGE"
   ]
  },
  {
   "cell_type": "code",
   "execution_count": 2,
   "metadata": {},
   "outputs": [],
   "source": [
    "df_1 = pd.read_csv(\"Enter_korea_by_age.csv\")"
   ]
  },
  {
   "cell_type": "markdown",
   "metadata": {},
   "source": [
    "### TABLE BY GENDER"
   ]
  },
  {
   "cell_type": "code",
   "execution_count": 3,
   "metadata": {},
   "outputs": [],
   "source": [
    "df_2 = pd.read_csv(\"Enter_korea_by_gender.csv\")"
   ]
  },
  {
   "cell_type": "markdown",
   "metadata": {},
   "source": [
    "### TABLE BY PURPOSE"
   ]
  },
  {
   "cell_type": "code",
   "execution_count": 4,
   "metadata": {},
   "outputs": [],
   "source": [
    "df_3 = pd.read_csv(\"Enter_korea_by_purpose.csv\")"
   ]
  },
  {
   "cell_type": "markdown",
   "metadata": {},
   "source": [
    "### ALL TABLE JOINED"
   ]
  },
  {
   "cell_type": "code",
   "execution_count": 5,
   "metadata": {},
   "outputs": [],
   "source": [
    "df = df_1.merge(df_2, how='inner')\n",
    "df = df.merge(df_3, how='inner')"
   ]
  },
  {
   "cell_type": "markdown",
   "metadata": {},
   "source": [
    "## DATA EXPLORATION"
   ]
  },
  {
   "cell_type": "markdown",
   "metadata": {},
   "source": [
    "### DATA CONTENT"
   ]
  },
  {
   "cell_type": "code",
   "execution_count": 6,
   "metadata": {},
   "outputs": [
    {
     "data": {
      "text/html": [
       "<div>\n",
       "<style scoped>\n",
       "    .dataframe tbody tr th:only-of-type {\n",
       "        vertical-align: middle;\n",
       "    }\n",
       "\n",
       "    .dataframe tbody tr th {\n",
       "        vertical-align: top;\n",
       "    }\n",
       "\n",
       "    .dataframe thead th {\n",
       "        text-align: right;\n",
       "    }\n",
       "</style>\n",
       "<table border=\"1\" class=\"dataframe\">\n",
       "  <thead>\n",
       "    <tr style=\"text-align: right;\">\n",
       "      <th></th>\n",
       "      <th>date</th>\n",
       "      <th>nation</th>\n",
       "      <th>visitor</th>\n",
       "      <th>growth</th>\n",
       "      <th>share</th>\n",
       "      <th>age0-20</th>\n",
       "      <th>age21-30</th>\n",
       "      <th>age31-40</th>\n",
       "      <th>age41-50</th>\n",
       "      <th>age51-60</th>\n",
       "      <th>age61</th>\n",
       "      <th>male</th>\n",
       "      <th>female</th>\n",
       "      <th>crewman</th>\n",
       "      <th>tourism</th>\n",
       "      <th>business</th>\n",
       "      <th>official affairs</th>\n",
       "      <th>studying</th>\n",
       "      <th>others</th>\n",
       "    </tr>\n",
       "  </thead>\n",
       "  <tbody>\n",
       "    <tr>\n",
       "      <th>0</th>\n",
       "      <td>2019-1</td>\n",
       "      <td>China</td>\n",
       "      <td>392814</td>\n",
       "      <td>28.737870</td>\n",
       "      <td>35.555117</td>\n",
       "      <td>36520</td>\n",
       "      <td>108591</td>\n",
       "      <td>103657</td>\n",
       "      <td>48574</td>\n",
       "      <td>40893</td>\n",
       "      <td>40998</td>\n",
       "      <td>147511</td>\n",
       "      <td>231722</td>\n",
       "      <td>13581</td>\n",
       "      <td>320113</td>\n",
       "      <td>2993</td>\n",
       "      <td>138</td>\n",
       "      <td>8793</td>\n",
       "      <td>60777</td>\n",
       "    </tr>\n",
       "    <tr>\n",
       "      <th>1</th>\n",
       "      <td>2019-1</td>\n",
       "      <td>Japan</td>\n",
       "      <td>206526</td>\n",
       "      <td>23.606830</td>\n",
       "      <td>18.693468</td>\n",
       "      <td>18015</td>\n",
       "      <td>57921</td>\n",
       "      <td>34165</td>\n",
       "      <td>39811</td>\n",
       "      <td>33857</td>\n",
       "      <td>20330</td>\n",
       "      <td>75070</td>\n",
       "      <td>129029</td>\n",
       "      <td>2427</td>\n",
       "      <td>198805</td>\n",
       "      <td>2233</td>\n",
       "      <td>127</td>\n",
       "      <td>785</td>\n",
       "      <td>4576</td>\n",
       "    </tr>\n",
       "    <tr>\n",
       "      <th>2</th>\n",
       "      <td>2019-1</td>\n",
       "      <td>Taiwan</td>\n",
       "      <td>87954</td>\n",
       "      <td>16.003693</td>\n",
       "      <td>7.961057</td>\n",
       "      <td>18888</td>\n",
       "      <td>17927</td>\n",
       "      <td>18595</td>\n",
       "      <td>18862</td>\n",
       "      <td>8169</td>\n",
       "      <td>4566</td>\n",
       "      <td>30805</td>\n",
       "      <td>56202</td>\n",
       "      <td>947</td>\n",
       "      <td>86393</td>\n",
       "      <td>74</td>\n",
       "      <td>22</td>\n",
       "      <td>180</td>\n",
       "      <td>1285</td>\n",
       "    </tr>\n",
       "    <tr>\n",
       "      <th>3</th>\n",
       "      <td>2019-1</td>\n",
       "      <td>Hong Kong</td>\n",
       "      <td>35896</td>\n",
       "      <td>3.533212</td>\n",
       "      <td>3.249086</td>\n",
       "      <td>3890</td>\n",
       "      <td>11384</td>\n",
       "      <td>7400</td>\n",
       "      <td>5461</td>\n",
       "      <td>4629</td>\n",
       "      <td>2137</td>\n",
       "      <td>12172</td>\n",
       "      <td>22729</td>\n",
       "      <td>995</td>\n",
       "      <td>34653</td>\n",
       "      <td>59</td>\n",
       "      <td>2</td>\n",
       "      <td>90</td>\n",
       "      <td>1092</td>\n",
       "    </tr>\n",
       "    <tr>\n",
       "      <th>4</th>\n",
       "      <td>2019-1</td>\n",
       "      <td>Macao</td>\n",
       "      <td>2570</td>\n",
       "      <td>-12.376406</td>\n",
       "      <td>0.232621</td>\n",
       "      <td>223</td>\n",
       "      <td>1013</td>\n",
       "      <td>762</td>\n",
       "      <td>264</td>\n",
       "      <td>181</td>\n",
       "      <td>92</td>\n",
       "      <td>748</td>\n",
       "      <td>1787</td>\n",
       "      <td>35</td>\n",
       "      <td>2506</td>\n",
       "      <td>2</td>\n",
       "      <td>0</td>\n",
       "      <td>17</td>\n",
       "      <td>45</td>\n",
       "    </tr>\n",
       "    <tr>\n",
       "      <th>...</th>\n",
       "      <td>...</td>\n",
       "      <td>...</td>\n",
       "      <td>...</td>\n",
       "      <td>...</td>\n",
       "      <td>...</td>\n",
       "      <td>...</td>\n",
       "      <td>...</td>\n",
       "      <td>...</td>\n",
       "      <td>...</td>\n",
       "      <td>...</td>\n",
       "      <td>...</td>\n",
       "      <td>...</td>\n",
       "      <td>...</td>\n",
       "      <td>...</td>\n",
       "      <td>...</td>\n",
       "      <td>...</td>\n",
       "      <td>...</td>\n",
       "      <td>...</td>\n",
       "      <td>...</td>\n",
       "    </tr>\n",
       "    <tr>\n",
       "      <th>955</th>\n",
       "      <td>2020-4</td>\n",
       "      <td>Oceania others</td>\n",
       "      <td>13</td>\n",
       "      <td>-97.239915</td>\n",
       "      <td>0.044195</td>\n",
       "      <td>0</td>\n",
       "      <td>0</td>\n",
       "      <td>0</td>\n",
       "      <td>0</td>\n",
       "      <td>0</td>\n",
       "      <td>0</td>\n",
       "      <td>0</td>\n",
       "      <td>0</td>\n",
       "      <td>13</td>\n",
       "      <td>0</td>\n",
       "      <td>0</td>\n",
       "      <td>0</td>\n",
       "      <td>0</td>\n",
       "      <td>13</td>\n",
       "    </tr>\n",
       "    <tr>\n",
       "      <th>956</th>\n",
       "      <td>2020-4</td>\n",
       "      <td>South Africa</td>\n",
       "      <td>22</td>\n",
       "      <td>-98.101812</td>\n",
       "      <td>0.074792</td>\n",
       "      <td>0</td>\n",
       "      <td>1</td>\n",
       "      <td>4</td>\n",
       "      <td>0</td>\n",
       "      <td>0</td>\n",
       "      <td>0</td>\n",
       "      <td>3</td>\n",
       "      <td>2</td>\n",
       "      <td>17</td>\n",
       "      <td>2</td>\n",
       "      <td>0</td>\n",
       "      <td>0</td>\n",
       "      <td>0</td>\n",
       "      <td>20</td>\n",
       "    </tr>\n",
       "    <tr>\n",
       "      <th>957</th>\n",
       "      <td>2020-4</td>\n",
       "      <td>Africa others</td>\n",
       "      <td>177</td>\n",
       "      <td>-95.412131</td>\n",
       "      <td>0.601734</td>\n",
       "      <td>3</td>\n",
       "      <td>9</td>\n",
       "      <td>16</td>\n",
       "      <td>6</td>\n",
       "      <td>2</td>\n",
       "      <td>0</td>\n",
       "      <td>30</td>\n",
       "      <td>6</td>\n",
       "      <td>141</td>\n",
       "      <td>11</td>\n",
       "      <td>5</td>\n",
       "      <td>0</td>\n",
       "      <td>11</td>\n",
       "      <td>150</td>\n",
       "    </tr>\n",
       "    <tr>\n",
       "      <th>958</th>\n",
       "      <td>2020-4</td>\n",
       "      <td>Stateless</td>\n",
       "      <td>3</td>\n",
       "      <td>-95.312500</td>\n",
       "      <td>0.010199</td>\n",
       "      <td>0</td>\n",
       "      <td>0</td>\n",
       "      <td>0</td>\n",
       "      <td>0</td>\n",
       "      <td>0</td>\n",
       "      <td>0</td>\n",
       "      <td>0</td>\n",
       "      <td>0</td>\n",
       "      <td>3</td>\n",
       "      <td>0</td>\n",
       "      <td>0</td>\n",
       "      <td>0</td>\n",
       "      <td>0</td>\n",
       "      <td>3</td>\n",
       "    </tr>\n",
       "    <tr>\n",
       "      <th>959</th>\n",
       "      <td>2020-4</td>\n",
       "      <td>Overseas Korean</td>\n",
       "      <td>698</td>\n",
       "      <td>-96.540101</td>\n",
       "      <td>2.372939</td>\n",
       "      <td>13</td>\n",
       "      <td>73</td>\n",
       "      <td>72</td>\n",
       "      <td>102</td>\n",
       "      <td>176</td>\n",
       "      <td>262</td>\n",
       "      <td>287</td>\n",
       "      <td>411</td>\n",
       "      <td>0</td>\n",
       "      <td>0</td>\n",
       "      <td>0</td>\n",
       "      <td>0</td>\n",
       "      <td>0</td>\n",
       "      <td>698</td>\n",
       "    </tr>\n",
       "  </tbody>\n",
       "</table>\n",
       "<p>960 rows × 19 columns</p>\n",
       "</div>"
      ],
      "text/plain": [
       "       date           nation  visitor     growth      share  age0-20  \\\n",
       "0    2019-1            China   392814  28.737870  35.555117    36520   \n",
       "1    2019-1            Japan   206526  23.606830  18.693468    18015   \n",
       "2    2019-1           Taiwan    87954  16.003693   7.961057    18888   \n",
       "3    2019-1        Hong Kong    35896   3.533212   3.249086     3890   \n",
       "4    2019-1            Macao     2570 -12.376406   0.232621      223   \n",
       "..      ...              ...      ...        ...        ...      ...   \n",
       "955  2020-4   Oceania others       13 -97.239915   0.044195        0   \n",
       "956  2020-4     South Africa       22 -98.101812   0.074792        0   \n",
       "957  2020-4    Africa others      177 -95.412131   0.601734        3   \n",
       "958  2020-4        Stateless        3 -95.312500   0.010199        0   \n",
       "959  2020-4  Overseas Korean      698 -96.540101   2.372939       13   \n",
       "\n",
       "     age21-30  age31-40  age41-50  age51-60  age61    male  female  crewman  \\\n",
       "0      108591    103657     48574     40893  40998  147511  231722    13581   \n",
       "1       57921     34165     39811     33857  20330   75070  129029     2427   \n",
       "2       17927     18595     18862      8169   4566   30805   56202      947   \n",
       "3       11384      7400      5461      4629   2137   12172   22729      995   \n",
       "4        1013       762       264       181     92     748    1787       35   \n",
       "..        ...       ...       ...       ...    ...     ...     ...      ...   \n",
       "955         0         0         0         0      0       0       0       13   \n",
       "956         1         4         0         0      0       3       2       17   \n",
       "957         9        16         6         2      0      30       6      141   \n",
       "958         0         0         0         0      0       0       0        3   \n",
       "959        73        72       102       176    262     287     411        0   \n",
       "\n",
       "     tourism  business  official affairs  studying  others  \n",
       "0     320113      2993               138      8793   60777  \n",
       "1     198805      2233               127       785    4576  \n",
       "2      86393        74                22       180    1285  \n",
       "3      34653        59                 2        90    1092  \n",
       "4       2506         2                 0        17      45  \n",
       "..       ...       ...               ...       ...     ...  \n",
       "955        0         0                 0         0      13  \n",
       "956        2         0                 0         0      20  \n",
       "957       11         5                 0        11     150  \n",
       "958        0         0                 0         0       3  \n",
       "959        0         0                 0         0     698  \n",
       "\n",
       "[960 rows x 19 columns]"
      ]
     },
     "execution_count": 6,
     "metadata": {},
     "output_type": "execute_result"
    }
   ],
   "source": [
    "df"
   ]
  },
  {
   "cell_type": "markdown",
   "metadata": {},
   "source": [
    "### DATA CONTEXT"
   ]
  },
  {
   "cell_type": "markdown",
   "metadata": {},
   "source": [
    "```\n",
    "This dataset deals with the visitors of foreigners into South Korea.\n",
    "\n",
    "It includes foreigners(not Korean), overseas Koreans and crew members, except for some of the foreign arrivals who are not considered tourists (diplomats, soldiers, permanent residents, visiting cohabitation and residence).\n",
    "\n",
    "The Korea Tourism Organization (KTO) has compiled, analyzed, and provided statistics on foreign tourists visiting Korea and overseas tourists by type.\n",
    "```"
   ]
  },
  {
   "cell_type": "markdown",
   "metadata": {},
   "source": [
    "### DATA INFORMATION"
   ]
  },
  {
   "cell_type": "markdown",
   "metadata": {},
   "source": [
    "#### DATA DIMENSION"
   ]
  },
  {
   "cell_type": "markdown",
   "metadata": {},
   "source": [
    "```\n",
    "Data consist of\n",
    "960 rows and 19 columns\n",
    "```"
   ]
  },
  {
   "cell_type": "markdown",
   "metadata": {},
   "source": [
    "#### COLUMN INFORMATION"
   ]
  },
  {
   "cell_type": "markdown",
   "metadata": {},
   "source": [
    "```\n",
    "date    : Date in (year - month - date) format\n",
    "nation  : Country of departure\n",
    "visitor : Number of visitors\n",
    "growth  : Growth percentage in the number of visitors compared to the same month last year\n",
    "share   : Percentage of all visitors in the month\n",
    "```"
   ]
  },
  {
   "cell_type": "markdown",
   "metadata": {},
   "source": [
    "# DATA PREPARATION"
   ]
  },
  {
   "cell_type": "markdown",
   "metadata": {},
   "source": [
    "## DATA FRAME INFORMATION"
   ]
  },
  {
   "cell_type": "code",
   "execution_count": 7,
   "metadata": {},
   "outputs": [
    {
     "name": "stdout",
     "output_type": "stream",
     "text": [
      "<class 'pandas.core.frame.DataFrame'>\n",
      "RangeIndex: 960 entries, 0 to 959\n",
      "Data columns (total 19 columns):\n",
      " #   Column            Non-Null Count  Dtype  \n",
      "---  ------            --------------  -----  \n",
      " 0   date              960 non-null    object \n",
      " 1   nation            960 non-null    object \n",
      " 2   visitor           960 non-null    int64  \n",
      " 3   growth            960 non-null    float64\n",
      " 4   share             960 non-null    float64\n",
      " 5   age0-20           960 non-null    int64  \n",
      " 6   age21-30          960 non-null    int64  \n",
      " 7   age31-40          960 non-null    int64  \n",
      " 8   age41-50          960 non-null    int64  \n",
      " 9   age51-60          960 non-null    int64  \n",
      " 10  age61             960 non-null    int64  \n",
      " 11  male              960 non-null    int64  \n",
      " 12  female            960 non-null    int64  \n",
      " 13  crewman           960 non-null    int64  \n",
      " 14  tourism           960 non-null    int64  \n",
      " 15  business          960 non-null    int64  \n",
      " 16  official affairs  960 non-null    int64  \n",
      " 17  studying          960 non-null    int64  \n",
      " 18  others            960 non-null    int64  \n",
      "dtypes: float64(2), int64(15), object(2)\n",
      "memory usage: 142.6+ KB\n"
     ]
    }
   ],
   "source": [
    "df.info()"
   ]
  },
  {
   "cell_type": "markdown",
   "metadata": {},
   "source": [
    "```\n",
    "From concise summary of the data :\n",
    "\n",
    "- There's no null / missing data\n",
    "- The date column value is still in the object type, it needs to be changed first to the date-time type.\n",
    "```"
   ]
  },
  {
   "cell_type": "markdown",
   "metadata": {},
   "source": [
    "## DATA CLEANING"
   ]
  },
  {
   "cell_type": "code",
   "execution_count": 8,
   "metadata": {},
   "outputs": [
    {
     "name": "stdout",
     "output_type": "stream",
     "text": [
      "<class 'pandas.core.frame.DataFrame'>\n",
      "RangeIndex: 960 entries, 0 to 959\n",
      "Data columns (total 19 columns):\n",
      " #   Column            Non-Null Count  Dtype         \n",
      "---  ------            --------------  -----         \n",
      " 0   date              960 non-null    datetime64[ns]\n",
      " 1   nation            960 non-null    object        \n",
      " 2   visitor           960 non-null    int64         \n",
      " 3   growth            960 non-null    float64       \n",
      " 4   share             960 non-null    float64       \n",
      " 5   age0-20           960 non-null    int64         \n",
      " 6   age21-30          960 non-null    int64         \n",
      " 7   age31-40          960 non-null    int64         \n",
      " 8   age41-50          960 non-null    int64         \n",
      " 9   age51-60          960 non-null    int64         \n",
      " 10  age61             960 non-null    int64         \n",
      " 11  male              960 non-null    int64         \n",
      " 12  female            960 non-null    int64         \n",
      " 13  crewman           960 non-null    int64         \n",
      " 14  tourism           960 non-null    int64         \n",
      " 15  business          960 non-null    int64         \n",
      " 16  official affairs  960 non-null    int64         \n",
      " 17  studying          960 non-null    int64         \n",
      " 18  others            960 non-null    int64         \n",
      "dtypes: datetime64[ns](1), float64(2), int64(15), object(1)\n",
      "memory usage: 142.6+ KB\n"
     ]
    }
   ],
   "source": [
    "df['date'] = pd.to_datetime(df['date'])\n",
    "df.info()"
   ]
  },
  {
   "cell_type": "markdown",
   "metadata": {},
   "source": [
    "```\n",
    "After we changed the date value to the date-time type, the data is ready to be analyzed.\n",
    "```"
   ]
  },
  {
   "cell_type": "code",
   "execution_count": null,
   "metadata": {},
   "outputs": [],
   "source": [
    "df.to_excel(\"tabel.xlsx\") # export dataframe to excel format for tableau visualization"
   ]
  },
  {
   "cell_type": "markdown",
   "metadata": {},
   "source": [
    "# DATA ANALYSIS"
   ]
  },
  {
   "cell_type": "markdown",
   "metadata": {},
   "source": [
    "## VISITOR GROWTH OVERTIME"
   ]
  },
  {
   "cell_type": "markdown",
   "metadata": {},
   "source": [
    "```\n",
    "First we need to examine visitor growth overtime to analyze trends.\n",
    "\n",
    "To analyze visitor growth overtime we need to set our metrics which in this case :\n",
    "- date\n",
    "- growth level\n",
    "\n",
    "data then grouped by date and growth level aggregated by averaging it.\n",
    "```"
   ]
  },
  {
   "cell_type": "code",
   "execution_count": null,
   "metadata": {},
   "outputs": [
    {
     "data": {
      "text/html": [
       "<div>\n",
       "<style scoped>\n",
       "    .dataframe tbody tr th:only-of-type {\n",
       "        vertical-align: middle;\n",
       "    }\n",
       "\n",
       "    .dataframe tbody tr th {\n",
       "        vertical-align: top;\n",
       "    }\n",
       "\n",
       "    .dataframe thead th {\n",
       "        text-align: right;\n",
       "    }\n",
       "</style>\n",
       "<table border=\"1\" class=\"dataframe\">\n",
       "  <thead>\n",
       "    <tr style=\"text-align: right;\">\n",
       "      <th></th>\n",
       "      <th>date</th>\n",
       "      <th>growth</th>\n",
       "    </tr>\n",
       "  </thead>\n",
       "  <tbody>\n",
       "    <tr>\n",
       "      <th>0</th>\n",
       "      <td>2019-01-01</td>\n",
       "      <td>2.032081</td>\n",
       "    </tr>\n",
       "    <tr>\n",
       "      <th>1</th>\n",
       "      <td>2019-02-01</td>\n",
       "      <td>-5.504321</td>\n",
       "    </tr>\n",
       "    <tr>\n",
       "      <th>2</th>\n",
       "      <td>2019-03-01</td>\n",
       "      <td>0.129832</td>\n",
       "    </tr>\n",
       "    <tr>\n",
       "      <th>3</th>\n",
       "      <td>2019-04-01</td>\n",
       "      <td>14.086335</td>\n",
       "    </tr>\n",
       "    <tr>\n",
       "      <th>4</th>\n",
       "      <td>2019-05-01</td>\n",
       "      <td>4.969710</td>\n",
       "    </tr>\n",
       "    <tr>\n",
       "      <th>5</th>\n",
       "      <td>2019-06-01</td>\n",
       "      <td>8.410194</td>\n",
       "    </tr>\n",
       "    <tr>\n",
       "      <th>6</th>\n",
       "      <td>2019-07-01</td>\n",
       "      <td>5.736133</td>\n",
       "    </tr>\n",
       "    <tr>\n",
       "      <th>7</th>\n",
       "      <td>2019-08-01</td>\n",
       "      <td>15.572962</td>\n",
       "    </tr>\n",
       "    <tr>\n",
       "      <th>8</th>\n",
       "      <td>2019-09-01</td>\n",
       "      <td>15.625084</td>\n",
       "    </tr>\n",
       "    <tr>\n",
       "      <th>9</th>\n",
       "      <td>2019-10-01</td>\n",
       "      <td>6.876105</td>\n",
       "    </tr>\n",
       "  </tbody>\n",
       "</table>\n",
       "</div>"
      ],
      "text/plain": [
       "        date     growth\n",
       "0 2019-01-01   2.032081\n",
       "1 2019-02-01  -5.504321\n",
       "2 2019-03-01   0.129832\n",
       "3 2019-04-01  14.086335\n",
       "4 2019-05-01   4.969710\n",
       "5 2019-06-01   8.410194\n",
       "6 2019-07-01   5.736133\n",
       "7 2019-08-01  15.572962\n",
       "8 2019-09-01  15.625084\n",
       "9 2019-10-01   6.876105"
      ]
     },
     "execution_count": 34,
     "metadata": {},
     "output_type": "execute_result"
    }
   ],
   "source": [
    "growth = df[['date','growth']]\n",
    "growth = growth.groupby(['date']).mean()\n",
    "growth = growth.reset_index()\n",
    "growth.head(10) # only show first 10 data for visual purpose"
   ]
  },
  {
   "cell_type": "markdown",
   "metadata": {},
   "source": [
    "```\n",
    "To make the data easier to see we can visualize it\n",
    "```"
   ]
  },
  {
   "cell_type": "code",
   "execution_count": 10,
   "metadata": {},
   "outputs": [
    {
     "data": {
      "image/png": "[encoded data removed]",
      "text/plain": [
       "<Figure size 640x480 with 1 Axes>"
      ]
     },
     "metadata": {},
     "output_type": "display_data"
    }
   ],
   "source": [
    "plt.plot(growth['date'],growth['growth'])\n",
    "plt.show()"
   ]
  },
  {
   "cell_type": "markdown",
   "metadata": {},
   "source": [
    "```\n",
    "Line chart was chosen for this visualization because we showed growth value compared to date which is continuous\n",
    "```"
   ]
  },
  {
   "cell_type": "markdown",
   "metadata": {},
   "source": [
    "```\n",
    "Currently, the trend of visitors is dropping drastically, and it is necessary to change the program to encourage an increase in visitor numbers again.\n",
    "```"
   ]
  },
  {
   "cell_type": "markdown",
   "metadata": {},
   "source": [
    "## VISITORS RANGE IN 2019 (Inferential Statistics)"
   ]
  },
  {
   "cell_type": "markdown",
   "metadata": {},
   "source": [
    "```\n",
    "Our goal is to increase the total number of visitors by 20%.\n",
    "We need to determine the range of visitors in 2019 first.\n",
    "That range will serve as our benchmark for the goal.\n",
    "```"
   ]
  },
  {
   "cell_type": "code",
   "execution_count": null,
   "metadata": {},
   "outputs": [
    {
     "data": {
      "text/html": [
       "<div>\n",
       "<style scoped>\n",
       "    .dataframe tbody tr th:only-of-type {\n",
       "        vertical-align: middle;\n",
       "    }\n",
       "\n",
       "    .dataframe tbody tr th {\n",
       "        vertical-align: top;\n",
       "    }\n",
       "\n",
       "    .dataframe thead th {\n",
       "        text-align: right;\n",
       "    }\n",
       "</style>\n",
       "<table border=\"1\" class=\"dataframe\">\n",
       "  <thead>\n",
       "    <tr style=\"text-align: right;\">\n",
       "      <th></th>\n",
       "      <th>nation</th>\n",
       "      <th>visitor</th>\n",
       "    </tr>\n",
       "    <tr>\n",
       "      <th>date</th>\n",
       "      <th></th>\n",
       "      <th></th>\n",
       "    </tr>\n",
       "  </thead>\n",
       "  <tbody>\n",
       "    <tr>\n",
       "      <th>2019-01-01</th>\n",
       "      <td>ChinaJapanTaiwanHong KongMacaoPhillipinesIndon...</td>\n",
       "      <td>1104803</td>\n",
       "    </tr>\n",
       "    <tr>\n",
       "      <th>2019-02-01</th>\n",
       "      <td>ChinaJapanTaiwanHong KongMacaoPhillipinesIndon...</td>\n",
       "      <td>1201802</td>\n",
       "    </tr>\n",
       "    <tr>\n",
       "      <th>2019-03-01</th>\n",
       "      <td>ChinaJapanTaiwanHong KongMacaoPhillipinesIndon...</td>\n",
       "      <td>1535641</td>\n",
       "    </tr>\n",
       "    <tr>\n",
       "      <th>2019-04-01</th>\n",
       "      <td>ChinaJapanTaiwanHong KongMacaoPhillipinesIndon...</td>\n",
       "      <td>1635066</td>\n",
       "    </tr>\n",
       "    <tr>\n",
       "      <th>2019-05-01</th>\n",
       "      <td>ChinaJapanTaiwanHong KongMacaoPhillipinesIndon...</td>\n",
       "      <td>1485684</td>\n",
       "    </tr>\n",
       "  </tbody>\n",
       "</table>\n",
       "</div>"
      ],
      "text/plain": [
       "                                                       nation  visitor\n",
       "date                                                                  \n",
       "2019-01-01  ChinaJapanTaiwanHong KongMacaoPhillipinesIndon...  1104803\n",
       "2019-02-01  ChinaJapanTaiwanHong KongMacaoPhillipinesIndon...  1201802\n",
       "2019-03-01  ChinaJapanTaiwanHong KongMacaoPhillipinesIndon...  1535641\n",
       "2019-04-01  ChinaJapanTaiwanHong KongMacaoPhillipinesIndon...  1635066\n",
       "2019-05-01  ChinaJapanTaiwanHong KongMacaoPhillipinesIndon...  1485684"
      ]
     },
     "execution_count": 32,
     "metadata": {},
     "output_type": "execute_result"
    }
   ],
   "source": [
    "range = df[['date','nation','visitor']][(df['date'].dt.year == 2019)]\n",
    "range = range.groupby(['date']).sum()\n",
    "range.head(5) # only show first 5 data for visual purpose"
   ]
  },
  {
   "cell_type": "markdown",
   "metadata": {},
   "source": [
    "```\n",
    "Check data central tendency\n",
    "```"
   ]
  },
  {
   "cell_type": "code",
   "execution_count": 33,
   "metadata": {},
   "outputs": [
    {
     "name": "stdout",
     "output_type": "stream",
     "text": [
      "Rata - rata jumlah pengunjung : 1458563.0\n",
      "Median jumlah pengunjung : 1467941.0\n",
      "Q1 jumlah pengunjung : 1454338.5\n",
      "Q3 jumlah pengunjung : 1548305.5\n",
      "IQR jumlah pengunjung : 93967.0\n"
     ]
    }
   ],
   "source": [
    "mean = range['visitor'].mean()\n",
    "median = range['visitor'].median()\n",
    "q1 = range['visitor'].quantile(0.25)\n",
    "q3 = range['visitor'].quantile(0.75)\n",
    "IQR = q3 - q1\n",
    "\n",
    "print(\"Rata - rata jumlah pengunjung :\",mean)\n",
    "print(\"Median jumlah pengunjung :\",median)\n",
    "print(\"Q1 jumlah pengunjung :\",q1)\n",
    "print(\"Q3 jumlah pengunjung :\",q3)\n",
    "print(\"IQR jumlah pengunjung :\",IQR)"
   ]
  },
  {
   "cell_type": "markdown",
   "metadata": {},
   "source": [
    "```\n",
    "Check data skewness to determine data distribution normality\n",
    "```"
   ]
  },
  {
   "cell_type": "code",
   "execution_count": 19,
   "metadata": {},
   "outputs": [
    {
     "name": "stdout",
     "output_type": "stream",
     "text": [
      "Skewness jumlah pengunjung di 2019 : -1.1898050556963113\n"
     ]
    }
   ],
   "source": [
    "print(\"Skewness jumlah pengunjung di 2019 :\",range['visitor'].skew())"
   ]
  },
  {
   "cell_type": "markdown",
   "metadata": {},
   "source": [
    "```\n",
    "Data is indicated as skewed (data distribution is not normal)\n",
    "\n",
    "Confidence interval for our range is calculated using:\n",
    "\n",
    "Upper = Median + 1.7 * (1.25*IQR / 1.35*sqrt(N))\n",
    "\n",
    "Lower = Median - 1.7 * (1.25*IQR / 1.35*sqrt(N))\n",
    "```"
   ]
  },
  {
   "cell_type": "code",
   "execution_count": 21,
   "metadata": {},
   "outputs": [
    {
     "name": "stdout",
     "output_type": "stream",
     "text": [
      "Upper = 1970941.7981466702\n",
      "Lower = 955562.2018533298\n"
     ]
    }
   ],
   "source": [
    "N = len(range)\n",
    "\n",
    "Upper = mean + 1.7 * (1.25*IQR / 1.35*math.sqrt(N))\n",
    "Lower = median - 1.7 * (1.25*IQR / 1.35*math.sqrt(N))\n",
    "\n",
    "print(\"Upper =\",Upper)\n",
    "print(\"Lower =\",Lower)"
   ]
  },
  {
   "cell_type": "markdown",
   "metadata": {},
   "source": [
    "```\n",
    "From the result of the calculation we can set our benchmark :\n",
    "2019 visitors range (1970941.7981466702 - 955562.2018533298)\n",
    "```"
   ]
  },
  {
   "cell_type": "markdown",
   "metadata": {},
   "source": [
    "## MAIN REASON PEOPLE VISITING KOREA"
   ]
  },
  {
   "cell_type": "markdown",
   "metadata": {},
   "source": [
    "```\n",
    "To increase visitor numbers we need to improve visitors experience.\n",
    "\n",
    "We can prioritize upgrading our facilities based on the reasons people visit the most.\n",
    "\n",
    "To analyze the main reasons people visit Korea, we need to set our metrics, which in this case are:\n",
    "- visitor numbers\n",
    "- reasons\n",
    "    * tourism\n",
    "    * business\n",
    "    * official affairs\n",
    "    * studying\n",
    "    * others\n",
    "```"
   ]
  },
  {
   "cell_type": "code",
   "execution_count": 14,
   "metadata": {},
   "outputs": [
    {
     "data": {
      "text/plain": [
       "visitor             19573588\n",
       "tourism             16003380\n",
       "business              200011\n",
       "official affairs       84477\n",
       "studying              459678\n",
       "others               2826042\n",
       "dtype: int64"
      ]
     },
     "execution_count": 14,
     "metadata": {},
     "output_type": "execute_result"
    }
   ],
   "source": [
    "purpose = df[['visitor','tourism','business','official affairs','studying','others']].sum()\n",
    "purpose"
   ]
  },
  {
   "cell_type": "markdown",
   "metadata": {},
   "source": [
    "```\n",
    "All the numbers can be overwhelming, so we will convert the values to percentages.\n",
    "```"
   ]
  },
  {
   "cell_type": "code",
   "execution_count": 16,
   "metadata": {},
   "outputs": [
    {
     "name": "stdout",
     "output_type": "stream",
     "text": [
      "Percentage of visitors who come to Korea for tourism purposes :81.76%\n",
      "Percentage of visitors who come to Korea for business purposes :1.02%\n",
      "Percentage of visitors who come to Korea for official affairs purposes :0.43%\n",
      "Percentage of visitors who come to Korea for studying purposes : :2.35%\n",
      "Percentage of visitors who come to Korea for others purposes : :14.44%\n"
     ]
    }
   ],
   "source": [
    "print(f\"Percentage of visitors who come to Korea for tourism purposes :{(purpose['tourism']/purpose['visitor']*100):.2f}%\")\n",
    "print(f\"Percentage of visitors who come to Korea for business purposes :{(purpose['business']/purpose['visitor']*100):.2f}%\")\n",
    "print(f\"Percentage of visitors who come to Korea for official affairs purposes :{(purpose['official affairs']/purpose['visitor']*100):.2f}%\")\n",
    "print(f\"Percentage of visitors who come to Korea for studying purposes : :{(purpose['studying']/purpose['visitor']*100):.2f}%\")\n",
    "print(f\"Percentage of visitors who come to Korea for others purposes : :{(purpose['others']/purpose['visitor']*100):.2f}%\")"
   ]
  },
  {
   "cell_type": "markdown",
   "metadata": {},
   "source": [
    "```\n",
    "To make the data easier to see we can visualize it\n",
    "\n",
    "But we need to remove the visitor value first because it contains the total sum of all reasons.\n",
    "```"
   ]
  },
  {
   "cell_type": "code",
   "execution_count": 93,
   "metadata": {},
   "outputs": [
    {
     "data": {
      "image/png": "[encoded data removed]",
      "text/plain": [
       "<Figure size 640x480 with 1 Axes>"
      ]
     },
     "metadata": {},
     "output_type": "display_data"
    }
   ],
   "source": [
    "onlyPurpose = purpose.drop(['visitor'])\n",
    "onlyPurpose = onlyPurpose.reset_index()\n",
    "onlyPurpose = onlyPurpose.rename(columns={'index':\"purpose\",0:'total_visitors'})\n",
    "onlyPurpose = onlyPurpose.sort_values('total_visitors',ascending=False)\n",
    "plt.barh(onlyPurpose['purpose'],onlyPurpose['total_visitors'])\n",
    "plt.show()"
   ]
  },
  {
   "cell_type": "markdown",
   "metadata": {},
   "source": [
    "```\n",
    "Bar horizontal chart was chosen for this visualization because we showed discrete value.\n",
    "```"
   ]
  },
  {
   "cell_type": "markdown",
   "metadata": {},
   "source": [
    "```\n",
    "From the chart we can clearly see that most visitors come for tourism reason.\n",
    "```"
   ]
  },
  {
   "cell_type": "markdown",
   "metadata": {},
   "source": [
    "## NATION THAT CONTRIBUTES THE MOST VISITORS"
   ]
  },
  {
   "cell_type": "markdown",
   "metadata": {},
   "source": [
    "```\n",
    "To increase visitor numbers, we can establish tourism cooperation with other countries. \n",
    "\n",
    "**Collaboration to increase the number of foreign tourists visiting both countries**\n",
    "\n",
    "We can prioritize tourism cooperation by analyzing which country contributes the most visitors.\n",
    "\n",
    "To analyze which nation that contriutes the most visitor, we need to set our metrics, which in this case are:\n",
    "- visitor numbers\n",
    "- nation\n",
    "```"
   ]
  },
  {
   "cell_type": "code",
   "execution_count": 90,
   "metadata": {},
   "outputs": [
    {
     "data": {
      "text/html": [
       "<div>\n",
       "<style scoped>\n",
       "    .dataframe tbody tr th:only-of-type {\n",
       "        vertical-align: middle;\n",
       "    }\n",
       "\n",
       "    .dataframe tbody tr th {\n",
       "        vertical-align: top;\n",
       "    }\n",
       "\n",
       "    .dataframe thead th {\n",
       "        text-align: right;\n",
       "    }\n",
       "</style>\n",
       "<table border=\"1\" class=\"dataframe\">\n",
       "  <thead>\n",
       "    <tr style=\"text-align: right;\">\n",
       "      <th></th>\n",
       "      <th>nation</th>\n",
       "      <th>visitor</th>\n",
       "    </tr>\n",
       "  </thead>\n",
       "  <tbody>\n",
       "    <tr>\n",
       "      <th>0</th>\n",
       "      <td>China</td>\n",
       "      <td>6629318</td>\n",
       "    </tr>\n",
       "    <tr>\n",
       "      <th>1</th>\n",
       "      <td>Japan</td>\n",
       "      <td>3695581</td>\n",
       "    </tr>\n",
       "    <tr>\n",
       "      <th>2</th>\n",
       "      <td>Taiwan</td>\n",
       "      <td>1424629</td>\n",
       "    </tr>\n",
       "    <tr>\n",
       "      <th>3</th>\n",
       "      <td>USA</td>\n",
       "      <td>1170719</td>\n",
       "    </tr>\n",
       "    <tr>\n",
       "      <th>4</th>\n",
       "      <td>Hong Kong</td>\n",
       "      <td>783159</td>\n",
       "    </tr>\n",
       "    <tr>\n",
       "      <th>5</th>\n",
       "      <td>Thailand</td>\n",
       "      <td>644523</td>\n",
       "    </tr>\n",
       "    <tr>\n",
       "      <th>6</th>\n",
       "      <td>Vietnam</td>\n",
       "      <td>624921</td>\n",
       "    </tr>\n",
       "    <tr>\n",
       "      <th>7</th>\n",
       "      <td>Phillipines</td>\n",
       "      <td>560570</td>\n",
       "    </tr>\n",
       "    <tr>\n",
       "      <th>8</th>\n",
       "      <td>Malaysia</td>\n",
       "      <td>455722</td>\n",
       "    </tr>\n",
       "    <tr>\n",
       "      <th>9</th>\n",
       "      <td>Russia</td>\n",
       "      <td>400628</td>\n",
       "    </tr>\n",
       "  </tbody>\n",
       "</table>\n",
       "</div>"
      ],
      "text/plain": [
       "        nation  visitor\n",
       "0        China  6629318\n",
       "1        Japan  3695581\n",
       "2       Taiwan  1424629\n",
       "3          USA  1170719\n",
       "4    Hong Kong   783159\n",
       "5     Thailand   644523\n",
       "6      Vietnam   624921\n",
       "7  Phillipines   560570\n",
       "8     Malaysia   455722\n",
       "9       Russia   400628"
      ]
     },
     "execution_count": 90,
     "metadata": {},
     "output_type": "execute_result"
    }
   ],
   "source": [
    "nation = df[['nation','visitor']]\n",
    "nation = nation.groupby(['nation']).sum()\n",
    "nation = nation.sort_values(['visitor'],ascending=False)\n",
    "nation = nation.reset_index()\n",
    "nation.head(10) # only show first 10 data for visual purpose"
   ]
  },
  {
   "cell_type": "code",
   "execution_count": 91,
   "metadata": {},
   "outputs": [
    {
     "data": {
      "image/png": "[encoded data removed]",
      "text/plain": [
       "<Figure size 640x480 with 1 Axes>"
      ]
     },
     "metadata": {},
     "output_type": "display_data"
    }
   ],
   "source": [
    "plt.barh(nation['nation'],nation['visitor'])\n",
    "plt.show()"
   ]
  },
  {
   "cell_type": "markdown",
   "metadata": {},
   "source": [
    "```\n",
    "Bar horizontal chart was chosen for this visualization because we showed discrete value and we want to see the nation name clearly.\n",
    "\n",
    "But as we can see here, it is quite overwhelming due to the large number of nations.\n",
    "\n",
    "So we'll only show top 10 nation.\n",
    "```"
   ]
  },
  {
   "cell_type": "code",
   "execution_count": 92,
   "metadata": {},
   "outputs": [
    {
     "data": {
      "image/png": "[encoded data removed]",
      "text/plain": [
       "<Figure size 640x480 with 1 Axes>"
      ]
     },
     "metadata": {},
     "output_type": "display_data"
    }
   ],
   "source": [
    "nation = nation.head(10)\n",
    "plt.barh(nation['nation'],nation['visitor'])\n",
    "plt.show()"
   ]
  },
  {
   "cell_type": "markdown",
   "metadata": {},
   "source": [
    "```\n",
    "Now it is easier to analyze.\n",
    "\n",
    "As from chart we know the top 10 nation that contributes the most visitors.\n",
    "```"
   ]
  },
  {
   "cell_type": "markdown",
   "metadata": {},
   "source": [
    "## CONNECTION BETWEEN THE ORIGIN NATION AND THE REASON FOR THE VISIT (Descriptive Statistics)"
   ]
  },
  {
   "cell_type": "markdown",
   "metadata": {},
   "source": [
    "```\n",
    "We already analyze most visitor origin nation and the reason for the visit.\n",
    "\n",
    "Now, we want to check if there is any connection between those two.\n",
    "\n",
    "If there is a connection, we can create a program to strengthen it.\n",
    "```"
   ]
  },
  {
   "cell_type": "code",
   "execution_count": null,
   "metadata": {},
   "outputs": [
    {
     "name": "stdout",
     "output_type": "stream",
     "text": [
      "           nation  tourism  business  official affairs  studying  others\n",
      "0            *GCC    34688       403               167      1320    1525\n",
      "1   Africa others    22177     10585              1210      3652   16696\n",
      "2  America others    35578       250               562      1586    9621\n",
      "3     Asia others    35375      6386              3007      4239   35885\n",
      "4      Austrailia   173354      1144               548       655   19297\n",
      "5         Austria    11159        99                35       328    2471\n",
      "6      Bangladesh     3520      1877              1254      1781   12392\n",
      "7         Belgium    12758       259                67       452    2493\n",
      "8          Brazil    20403       230               183       541    5763\n",
      "9        Bulgaria     3546        32                46       107    3497\n"
     ]
    }
   ],
   "source": [
    "corrNationVisitors = df[['nation','tourism','business','official affairs','studying','others']]\n",
    "corrNationVisitors = corrNationVisitors.groupby(['nation']).sum()\n",
    "corrNationVisitors = corrNationVisitors.reset_index()\n",
    "print(corrNationVisitors.head(10)) # only show first 10 data for visual purpose"
   ]
  },
  {
   "cell_type": "markdown",
   "metadata": {},
   "source": [
    "```\n",
    "We're using the Kendall method because we want to compare one categorical value with five numerical values.\n",
    "\n",
    "Why not use ANOVA ?\n",
    "Because, as we can see from the reason data, it was not normally distributed.\n",
    "```"
   ]
  },
  {
   "cell_type": "code",
   "execution_count": 49,
   "metadata": {},
   "outputs": [
    {
     "data": {
      "text/html": [
       "<div>\n",
       "<style scoped>\n",
       "    .dataframe tbody tr th:only-of-type {\n",
       "        vertical-align: middle;\n",
       "    }\n",
       "\n",
       "    .dataframe tbody tr th {\n",
       "        vertical-align: top;\n",
       "    }\n",
       "\n",
       "    .dataframe thead th {\n",
       "        text-align: right;\n",
       "    }\n",
       "</style>\n",
       "<table border=\"1\" class=\"dataframe\">\n",
       "  <thead>\n",
       "    <tr style=\"text-align: right;\">\n",
       "      <th></th>\n",
       "      <th>nation</th>\n",
       "      <th>tourism</th>\n",
       "      <th>business</th>\n",
       "      <th>official affairs</th>\n",
       "      <th>studying</th>\n",
       "      <th>others</th>\n",
       "    </tr>\n",
       "  </thead>\n",
       "  <tbody>\n",
       "    <tr>\n",
       "      <th>nation</th>\n",
       "      <td>1.000000</td>\n",
       "      <td>0.037288</td>\n",
       "      <td>0.016949</td>\n",
       "      <td>-0.071812</td>\n",
       "      <td>-0.018089</td>\n",
       "      <td>0.090395</td>\n",
       "    </tr>\n",
       "    <tr>\n",
       "      <th>tourism</th>\n",
       "      <td>0.037288</td>\n",
       "      <td>1.000000</td>\n",
       "      <td>0.468927</td>\n",
       "      <td>0.440486</td>\n",
       "      <td>0.600339</td>\n",
       "      <td>0.481356</td>\n",
       "    </tr>\n",
       "    <tr>\n",
       "      <th>business</th>\n",
       "      <td>0.016949</td>\n",
       "      <td>0.468927</td>\n",
       "      <td>1.000000</td>\n",
       "      <td>0.527566</td>\n",
       "      <td>0.624082</td>\n",
       "      <td>0.492655</td>\n",
       "    </tr>\n",
       "    <tr>\n",
       "      <th>official affairs</th>\n",
       "      <td>-0.071812</td>\n",
       "      <td>0.440486</td>\n",
       "      <td>0.527566</td>\n",
       "      <td>1.000000</td>\n",
       "      <td>0.555021</td>\n",
       "      <td>0.502686</td>\n",
       "    </tr>\n",
       "    <tr>\n",
       "      <th>studying</th>\n",
       "      <td>-0.018089</td>\n",
       "      <td>0.600339</td>\n",
       "      <td>0.624082</td>\n",
       "      <td>0.555021</td>\n",
       "      <td>1.000000</td>\n",
       "      <td>0.466931</td>\n",
       "    </tr>\n",
       "    <tr>\n",
       "      <th>others</th>\n",
       "      <td>0.090395</td>\n",
       "      <td>0.481356</td>\n",
       "      <td>0.492655</td>\n",
       "      <td>0.502686</td>\n",
       "      <td>0.466931</td>\n",
       "      <td>1.000000</td>\n",
       "    </tr>\n",
       "  </tbody>\n",
       "</table>\n",
       "</div>"
      ],
      "text/plain": [
       "                    nation   tourism  business  official affairs  studying  \\\n",
       "nation            1.000000  0.037288  0.016949         -0.071812 -0.018089   \n",
       "tourism           0.037288  1.000000  0.468927          0.440486  0.600339   \n",
       "business          0.016949  0.468927  1.000000          0.527566  0.624082   \n",
       "official affairs -0.071812  0.440486  0.527566          1.000000  0.555021   \n",
       "studying         -0.018089  0.600339  0.624082          0.555021  1.000000   \n",
       "others            0.090395  0.481356  0.492655          0.502686  0.466931   \n",
       "\n",
       "                    others  \n",
       "nation            0.090395  \n",
       "tourism           0.481356  \n",
       "business          0.492655  \n",
       "official affairs  0.502686  \n",
       "studying          0.466931  \n",
       "others            1.000000  "
      ]
     },
     "execution_count": 49,
     "metadata": {},
     "output_type": "execute_result"
    }
   ],
   "source": [
    "# change nation category to code for kendall method\n",
    "corrNationVisitors['nation'] = corrNationVisitors['nation'].astype('category').cat.codes\n",
    "res = corrNationVisitors.corr(method='kendall')\n",
    "res"
   ]
  },
  {
   "cell_type": "markdown",
   "metadata": {},
   "source": [
    "```\n",
    "We got the correlation matrix.\n",
    "We only want show nation correlation with all reasons\n",
    "```"
   ]
  },
  {
   "cell_type": "code",
   "execution_count": 25,
   "metadata": {},
   "outputs": [
    {
     "name": "stdout",
     "output_type": "stream",
     "text": [
      "nation              1.000000\n",
      "tourism             0.037288\n",
      "business            0.016949\n",
      "official affairs   -0.071812\n",
      "studying           -0.018089\n",
      "others              0.090395\n",
      "Name: nation, dtype: float64\n"
     ]
    }
   ],
   "source": [
    "res = corrNationVisitors.corr(method='kendall')\n",
    "print(res['nation'])"
   ]
  },
  {
   "cell_type": "markdown",
   "metadata": {},
   "source": [
    "```\n",
    "Based on the correlation results above, there is no relationship between the country of origin and the visitor's destination, as evidenced by the correlation value being very small and far from 1.\n",
    "```"
   ]
  },
  {
   "cell_type": "markdown",
   "metadata": {},
   "source": [
    "## PEOPLE CRITERIA THAT MOSTLY VISIT KOREA"
   ]
  },
  {
   "cell_type": "markdown",
   "metadata": {},
   "source": [
    "```\n",
    "Promotion and branding can be maximized by targeting the criteria of the most visitors.\n",
    "\n",
    "In this case, the criteria are defined by gender and age.\n",
    "```"
   ]
  },
  {
   "cell_type": "code",
   "execution_count": 96,
   "metadata": {},
   "outputs": [],
   "source": [
    "people = df[['male','female']].sum()\n",
    "age = df[['age0-20','age21-30','age31-40','age41-50','age51-60','age61']].sum()"
   ]
  },
  {
   "cell_type": "markdown",
   "metadata": {},
   "source": [
    "### BY GENDER"
   ]
  },
  {
   "cell_type": "code",
   "execution_count": 54,
   "metadata": {},
   "outputs": [
    {
     "name": "stdout",
     "output_type": "stream",
     "text": [
      "The percentage of male visitors is 41.37%\n",
      "The percentage of female visitors is 58.63%\n"
     ]
    }
   ],
   "source": [
    "print(f\"The percentage of male visitors is {(people['male']/people.sum()*100):.2f}%\")\n",
    "print(f\"The percentage of female visitors is {(people['female']/people.sum()*100):.2f}%\")"
   ]
  },
  {
   "cell_type": "code",
   "execution_count": 55,
   "metadata": {},
   "outputs": [
    {
     "data": {
      "image/png": "[encoded data removed]",
      "text/plain": [
       "<Figure size 640x480 with 1 Axes>"
      ]
     },
     "metadata": {},
     "output_type": "display_data"
    }
   ],
   "source": [
    "gender = ['male','female']\n",
    "plt.pie(people,labels=gender)\n",
    "plt.show()"
   ]
  },
  {
   "cell_type": "markdown",
   "metadata": {},
   "source": [
    "```\n",
    "Pie chart was chosen for this visualization because we want to showed portion of the value.\n",
    "```"
   ]
  },
  {
   "cell_type": "markdown",
   "metadata": {},
   "source": [
    "```\n",
    "From the chart above, we can see that most visitors are female.\n",
    "```"
   ]
  },
  {
   "cell_type": "markdown",
   "metadata": {},
   "source": [
    "### BY AGE"
   ]
  },
  {
   "cell_type": "code",
   "execution_count": 97,
   "metadata": {},
   "outputs": [
    {
     "name": "stdout",
     "output_type": "stream",
     "text": [
      "The number of visitors under the age of 21 is 1852430\n",
      "The number of visitors aged 21 - 30 is 4922794\n",
      "The number of visitors aged 31 - 40 is 4284761\n",
      "The number of visitors aged 41 - 50 is 2961474\n",
      "The number of visitors aged 51 - 60 is 2458046\n",
      "The number of visitors above the age of 60 is 1897219\n"
     ]
    }
   ],
   "source": [
    "print(f\"The number of visitors under the age of 21 is {age['age0-20']}\")\n",
    "print(f\"The number of visitors aged 21 - 30 is {age['age21-30']}\")\n",
    "print(f\"The number of visitors aged 31 - 40 is {age['age31-40']}\")\n",
    "print(f\"The number of visitors aged 41 - 50 is {age['age41-50']}\")\n",
    "print(f\"The number of visitors aged 51 - 60 is {age['age51-60']}\")\n",
    "print(f\"The number of visitors above the age of 60 is {age['age61']}\")"
   ]
  },
  {
   "cell_type": "code",
   "execution_count": 98,
   "metadata": {},
   "outputs": [
    {
     "data": {
      "image/png": "[encoded data removed]",
      "text/plain": [
       "<Figure size 640x480 with 1 Axes>"
      ]
     },
     "metadata": {},
     "output_type": "display_data"
    }
   ],
   "source": [
    "age = age.reset_index()\n",
    "age = age.rename(columns={'index':\"age\",0:'total_visitors'})\n",
    "age = age.sort_values('total_visitors',ascending=False)\n",
    "plt.barh(age['age'],age['total_visitors'])\n",
    "plt.show()"
   ]
  },
  {
   "cell_type": "markdown",
   "metadata": {},
   "source": [
    "```\n",
    "A horizontal bar chart was chosen for this visualization because we want to check which criteria most visitors fall under.\n",
    "```"
   ]
  },
  {
   "cell_type": "markdown",
   "metadata": {},
   "source": [
    "```\n",
    "From the chart above, we can see that most visitors' ages are in the range of 21-30.\n",
    "```"
   ]
  },
  {
   "cell_type": "markdown",
   "metadata": {},
   "source": [
    "## WHAT MONTH DO MOST VISITORS COME ?"
   ]
  },
  {
   "cell_type": "markdown",
   "metadata": {},
   "source": [
    "```\n",
    "We can hold special events in certain months to attract more visitors.\n",
    "\n",
    "We can use the 2019 data to analyze which month do most visitors come.\n",
    "```"
   ]
  },
  {
   "cell_type": "code",
   "execution_count": 74,
   "metadata": {},
   "outputs": [
    {
     "data": {
      "text/html": [
       "<div>\n",
       "<style scoped>\n",
       "    .dataframe tbody tr th:only-of-type {\n",
       "        vertical-align: middle;\n",
       "    }\n",
       "\n",
       "    .dataframe tbody tr th {\n",
       "        vertical-align: top;\n",
       "    }\n",
       "\n",
       "    .dataframe thead th {\n",
       "        text-align: right;\n",
       "    }\n",
       "</style>\n",
       "<table border=\"1\" class=\"dataframe\">\n",
       "  <thead>\n",
       "    <tr style=\"text-align: right;\">\n",
       "      <th></th>\n",
       "      <th>month</th>\n",
       "      <th>visitor</th>\n",
       "    </tr>\n",
       "  </thead>\n",
       "  <tbody>\n",
       "    <tr>\n",
       "      <th>0</th>\n",
       "      <td>1</td>\n",
       "      <td>1104803</td>\n",
       "    </tr>\n",
       "    <tr>\n",
       "      <th>1</th>\n",
       "      <td>2</td>\n",
       "      <td>1201802</td>\n",
       "    </tr>\n",
       "    <tr>\n",
       "      <th>2</th>\n",
       "      <td>3</td>\n",
       "      <td>1535641</td>\n",
       "    </tr>\n",
       "    <tr>\n",
       "      <th>3</th>\n",
       "      <td>4</td>\n",
       "      <td>1635066</td>\n",
       "    </tr>\n",
       "    <tr>\n",
       "      <th>4</th>\n",
       "      <td>5</td>\n",
       "      <td>1485684</td>\n",
       "    </tr>\n",
       "    <tr>\n",
       "      <th>5</th>\n",
       "      <td>6</td>\n",
       "      <td>1476218</td>\n",
       "    </tr>\n",
       "    <tr>\n",
       "      <th>6</th>\n",
       "      <td>7</td>\n",
       "      <td>1448067</td>\n",
       "    </tr>\n",
       "    <tr>\n",
       "      <th>7</th>\n",
       "      <td>8</td>\n",
       "      <td>1586299</td>\n",
       "    </tr>\n",
       "    <tr>\n",
       "      <th>8</th>\n",
       "      <td>9</td>\n",
       "      <td>1459664</td>\n",
       "    </tr>\n",
       "    <tr>\n",
       "      <th>9</th>\n",
       "      <td>10</td>\n",
       "      <td>1656195</td>\n",
       "    </tr>\n",
       "    <tr>\n",
       "      <th>10</th>\n",
       "      <td>11</td>\n",
       "      <td>1456429</td>\n",
       "    </tr>\n",
       "    <tr>\n",
       "      <th>11</th>\n",
       "      <td>12</td>\n",
       "      <td>1456888</td>\n",
       "    </tr>\n",
       "  </tbody>\n",
       "</table>\n",
       "</div>"
      ],
      "text/plain": [
       "    month  visitor\n",
       "0       1  1104803\n",
       "1       2  1201802\n",
       "2       3  1535641\n",
       "3       4  1635066\n",
       "4       5  1485684\n",
       "5       6  1476218\n",
       "6       7  1448067\n",
       "7       8  1586299\n",
       "8       9  1459664\n",
       "9      10  1656195\n",
       "10     11  1456429\n",
       "11     12  1456888"
      ]
     },
     "execution_count": 74,
     "metadata": {},
     "output_type": "execute_result"
    }
   ],
   "source": [
    "month = df[['date','visitor']][(df['date'].dt.year == 2019)]\n",
    "month['date'] = month['date'].dt.month\n",
    "month = month.rename(columns={'date':'month'})\n",
    "month = month.groupby(['month']).sum()\n",
    "month = month.reset_index()\n",
    "month"
   ]
  },
  {
   "cell_type": "code",
   "execution_count": 76,
   "metadata": {},
   "outputs": [
    {
     "data": {
      "image/png": "[encoded data removed]",
      "text/plain": [
       "<Figure size 640x480 with 1 Axes>"
      ]
     },
     "metadata": {},
     "output_type": "display_data"
    }
   ],
   "source": [
    "plt.plot(month['month'],month['visitor'])\n",
    "plt.show()"
   ]
  },
  {
   "cell_type": "markdown",
   "metadata": {},
   "source": [
    "```\n",
    "Line chart was chosen for this visualization because we showed visitor numbers value compared to month in date which is continuous\n",
    "```"
   ]
  },
  {
   "cell_type": "markdown",
   "metadata": {},
   "source": [
    "```\n",
    "For more detailed information, we sorted the months based on the number of visitors.\n",
    "```"
   ]
  },
  {
   "cell_type": "code",
   "execution_count": 77,
   "metadata": {},
   "outputs": [
    {
     "data": {
      "text/html": [
       "<div>\n",
       "<style scoped>\n",
       "    .dataframe tbody tr th:only-of-type {\n",
       "        vertical-align: middle;\n",
       "    }\n",
       "\n",
       "    .dataframe tbody tr th {\n",
       "        vertical-align: top;\n",
       "    }\n",
       "\n",
       "    .dataframe thead th {\n",
       "        text-align: right;\n",
       "    }\n",
       "</style>\n",
       "<table border=\"1\" class=\"dataframe\">\n",
       "  <thead>\n",
       "    <tr style=\"text-align: right;\">\n",
       "      <th></th>\n",
       "      <th>visitor</th>\n",
       "    </tr>\n",
       "    <tr>\n",
       "      <th>month</th>\n",
       "      <th></th>\n",
       "    </tr>\n",
       "  </thead>\n",
       "  <tbody>\n",
       "    <tr>\n",
       "      <th>10</th>\n",
       "      <td>1656195</td>\n",
       "    </tr>\n",
       "    <tr>\n",
       "      <th>4</th>\n",
       "      <td>1635066</td>\n",
       "    </tr>\n",
       "    <tr>\n",
       "      <th>8</th>\n",
       "      <td>1586299</td>\n",
       "    </tr>\n",
       "    <tr>\n",
       "      <th>3</th>\n",
       "      <td>1535641</td>\n",
       "    </tr>\n",
       "    <tr>\n",
       "      <th>5</th>\n",
       "      <td>1485684</td>\n",
       "    </tr>\n",
       "    <tr>\n",
       "      <th>6</th>\n",
       "      <td>1476218</td>\n",
       "    </tr>\n",
       "    <tr>\n",
       "      <th>9</th>\n",
       "      <td>1459664</td>\n",
       "    </tr>\n",
       "    <tr>\n",
       "      <th>12</th>\n",
       "      <td>1456888</td>\n",
       "    </tr>\n",
       "    <tr>\n",
       "      <th>11</th>\n",
       "      <td>1456429</td>\n",
       "    </tr>\n",
       "    <tr>\n",
       "      <th>7</th>\n",
       "      <td>1448067</td>\n",
       "    </tr>\n",
       "    <tr>\n",
       "      <th>2</th>\n",
       "      <td>1201802</td>\n",
       "    </tr>\n",
       "    <tr>\n",
       "      <th>1</th>\n",
       "      <td>1104803</td>\n",
       "    </tr>\n",
       "  </tbody>\n",
       "</table>\n",
       "</div>"
      ],
      "text/plain": [
       "       visitor\n",
       "month         \n",
       "10     1656195\n",
       "4      1635066\n",
       "8      1586299\n",
       "3      1535641\n",
       "5      1485684\n",
       "6      1476218\n",
       "9      1459664\n",
       "12     1456888\n",
       "11     1456429\n",
       "7      1448067\n",
       "2      1201802\n",
       "1      1104803"
      ]
     },
     "execution_count": 77,
     "metadata": {},
     "output_type": "execute_result"
    }
   ],
   "source": [
    "month = month.groupby(['month']).sum().sort_values('visitor',ascending=False)\n",
    "month"
   ]
  },
  {
   "cell_type": "markdown",
   "metadata": {},
   "source": [
    "```\n",
    "We can see that visitor numbers peaked in September.\n",
    "```"
   ]
  },
  {
   "cell_type": "markdown",
   "metadata": {},
   "source": [
    "## NATION THAT SEND THE MOST VISITORS FOR STUDYING PURPOSE"
   ]
  },
  {
   "cell_type": "markdown",
   "metadata": {},
   "source": [
    "```\n",
    "We can increase our scholarships for countries that send the most students interested in studying in Korea, which could lead to recommendations or family visits, ultimately increasing total visitor numbers.\n",
    "```"
   ]
  },
  {
   "cell_type": "code",
   "execution_count": 88,
   "metadata": {},
   "outputs": [
    {
     "data": {
      "text/html": [
       "<div>\n",
       "<style scoped>\n",
       "    .dataframe tbody tr th:only-of-type {\n",
       "        vertical-align: middle;\n",
       "    }\n",
       "\n",
       "    .dataframe tbody tr th {\n",
       "        vertical-align: top;\n",
       "    }\n",
       "\n",
       "    .dataframe thead th {\n",
       "        text-align: right;\n",
       "    }\n",
       "</style>\n",
       "<table border=\"1\" class=\"dataframe\">\n",
       "  <thead>\n",
       "    <tr style=\"text-align: right;\">\n",
       "      <th></th>\n",
       "      <th>nation</th>\n",
       "      <th>studying</th>\n",
       "    </tr>\n",
       "  </thead>\n",
       "  <tbody>\n",
       "    <tr>\n",
       "      <th>12</th>\n",
       "      <td>China</td>\n",
       "      <td>277895</td>\n",
       "    </tr>\n",
       "    <tr>\n",
       "      <th>59</th>\n",
       "      <td>Vietnam</td>\n",
       "      <td>65316</td>\n",
       "    </tr>\n",
       "    <tr>\n",
       "      <th>27</th>\n",
       "      <td>Japan</td>\n",
       "      <td>16333</td>\n",
       "    </tr>\n",
       "    <tr>\n",
       "      <th>32</th>\n",
       "      <td>Mongolia</td>\n",
       "      <td>10679</td>\n",
       "    </tr>\n",
       "    <tr>\n",
       "      <th>58</th>\n",
       "      <td>Uzbekistan</td>\n",
       "      <td>8909</td>\n",
       "    </tr>\n",
       "    <tr>\n",
       "      <th>17</th>\n",
       "      <td>France</td>\n",
       "      <td>6753</td>\n",
       "    </tr>\n",
       "    <tr>\n",
       "      <th>56</th>\n",
       "      <td>USA</td>\n",
       "      <td>6396</td>\n",
       "    </tr>\n",
       "    <tr>\n",
       "      <th>52</th>\n",
       "      <td>Taiwan</td>\n",
       "      <td>5662</td>\n",
       "    </tr>\n",
       "    <tr>\n",
       "      <th>3</th>\n",
       "      <td>Asia others</td>\n",
       "      <td>4239</td>\n",
       "    </tr>\n",
       "    <tr>\n",
       "      <th>22</th>\n",
       "      <td>Indonesia</td>\n",
       "      <td>4207</td>\n",
       "    </tr>\n",
       "  </tbody>\n",
       "</table>\n",
       "</div>"
      ],
      "text/plain": [
       "         nation  studying\n",
       "12        China    277895\n",
       "59      Vietnam     65316\n",
       "27        Japan     16333\n",
       "32     Mongolia     10679\n",
       "58   Uzbekistan      8909\n",
       "17       France      6753\n",
       "56          USA      6396\n",
       "52       Taiwan      5662\n",
       "3   Asia others      4239\n",
       "22    Indonesia      4207"
      ]
     },
     "execution_count": 88,
     "metadata": {},
     "output_type": "execute_result"
    }
   ],
   "source": [
    "study = df[['nation','studying']]\n",
    "study = study.groupby(['nation']).sum()\n",
    "study = study.reset_index()\n",
    "study = study.sort_values('studying',ascending=False)\n",
    "study.head(10)"
   ]
  },
  {
   "cell_type": "code",
   "execution_count": 89,
   "metadata": {},
   "outputs": [
    {
     "data": {
      "image/png": "[encoded data removed]",
      "text/plain": [
       "<Figure size 640x480 with 1 Axes>"
      ]
     },
     "metadata": {},
     "output_type": "display_data"
    }
   ],
   "source": [
    "plt.barh(study['nation'],study['studying'])\n",
    "plt.show()"
   ]
  },
  {
   "cell_type": "markdown",
   "metadata": {},
   "source": [
    "```\n",
    "Bar horizontal chart was chosen for this visualization because we showed discrete value and we want to see the nation name clearly.\n",
    "\n",
    "But as we can see here, it is quite overwhelming due to the large number of nations.\n",
    "\n",
    "So we'll only show top 10 nation.\n",
    "```"
   ]
  },
  {
   "cell_type": "code",
   "execution_count": 99,
   "metadata": {},
   "outputs": [
    {
     "data": {
      "image/png": "[encoded data removed]",
      "text/plain": [
       "<Figure size 640x480 with 1 Axes>"
      ]
     },
     "metadata": {},
     "output_type": "display_data"
    }
   ],
   "source": [
    "study = study.head(10).sort_values('studying',ascending=False)\n",
    "plt.barh(study['nation'],study['studying'])\n",
    "plt.show()"
   ]
  },
  {
   "cell_type": "markdown",
   "metadata": {},
   "source": [
    "```\n",
    "Now it is easier to analyze.\n",
    "\n",
    "As from chart we know the top 10 nation that contributes the most visitors.\n",
    "```"
   ]
  },
  {
   "cell_type": "markdown",
   "metadata": {},
   "source": [
    "# CONCLUSION"
   ]
  },
  {
   "cell_type": "markdown",
   "metadata": {},
   "source": [
    "```\n",
    "In conclusion, achieving our goal of increasing total visitor numbers by 20% from the benchmark 2019 visitor range (1,970,942 to 955,562) can be accomplished through the following strategies:\n",
    "\n",
    "- The main reason visitors come to Korea is for tourism, so we should focus on improving public facilities, public transportation, and tourist attractions to enhance their experience.\n",
    "\n",
    "- Promoting tourism as a key reason for visiting. Establishing tourism cooperation with the top 10 nations that contribute the most visitors (China, Japan, Taiwan, USA, Hong Kong, Thailand, Vietnam, Philippines, Malaysia, Russia).\n",
    "\n",
    "- Targeted promotional campaigns focusing on specific visitor demographics, such as females aged 21-30, will help increase engagement.\n",
    "\n",
    "- Holding special events during peak months, like September, will also drive tourism.\n",
    "\n",
    "- By strategically increasing scholarships for countries that send the most students to Korea (China, Vietnam, Japan, Mongolia, Uzbekistan, France, USA, Taiwan, Indonesia, and others), we can not only enhance educational exchange but also encourage family visits and positive recommendations. This approach will play a key role in achieving our goal of increasing total visitor numbers by 20%, strengthening both the academic and tourism sectors in Korea.\n",
    "```"
   ]
  },
  {
   "cell_type": "markdown",
   "metadata": {},
   "source": [
    "# TABLEAU"
   ]
  },
  {
   "cell_type": "markdown",
   "metadata": {},
   "source": [
    "https://public.tableau.com/app/profile/nathaniel.andre/viz/VisitorInsightsDashboard/MAINDASHBOARD"
   ]
  }
 ],
 "metadata": {
  "kernelspec": {
   "display_name": "base",
   "language": "python",
   "name": "python3"
  },
  "language_info": {
   "codemirror_mode": {
    "name": "ipython",
    "version": 3
   },
   "file_extension": ".py",
   "mimetype": "text/x-python",
   "name": "python",
   "nbconvert_exporter": "python",
   "pygments_lexer": "ipython3",
   "version": "3.9.20"
  }
 },
 "nbformat": 4,
 "nbformat_minor": 2
}
